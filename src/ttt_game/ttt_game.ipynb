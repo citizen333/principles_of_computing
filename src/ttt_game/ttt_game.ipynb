{
 "cells": [
  {
   "cell_type": "code",
   "execution_count": 1,
   "metadata": {},
   "outputs": [],
   "source": [
    "import random\n",
    "\n",
    "import ttt_game\n",
    "import poc_ttt_provided as provided"
   ]
  },
  {
   "cell_type": "code",
   "execution_count": 33,
   "metadata": {},
   "outputs": [
    {
     "name": "stdout",
     "output_type": "stream",
     "text": [
      "O | X | X\n",
      "---------\n",
      "X | O | O\n",
      "---------\n",
      "O | O | X\n",
      "\n",
      "\n",
      "4\n"
     ]
    }
   ],
   "source": [
    "empty_board = provided.TTTBoard(3)\n",
    "player = provided.PLAYERO\n",
    "seed = 7\n",
    "\n",
    "def tes_mc_trial(empty_board, player, seed):\n",
    "    random.seed(seed)\n",
    "    ttt_game.mc_trial(empty_board, player)\n",
    "\n",
    "tes_mc_trial(empty_board, player, seed)\n",
    "\n",
    "print(empty_board)\n",
    "print()\n",
    "print(empty_board.check_win())"
   ]
  },
  {
   "cell_type": "code",
   "execution_count": 3,
   "metadata": {},
   "outputs": [
    {
     "data": {
      "text/plain": [
       "4"
      ]
     },
     "execution_count": 3,
     "metadata": {},
     "output_type": "execute_result"
    }
   ],
   "source": []
  }
 ],
 "metadata": {
  "kernelspec": {
   "display_name": "Python 3",
   "language": "python",
   "name": "python3"
  },
  "language_info": {
   "codemirror_mode": {
    "name": "ipython",
    "version": 3
   },
   "file_extension": ".py",
   "mimetype": "text/x-python",
   "name": "python",
   "nbconvert_exporter": "python",
   "pygments_lexer": "ipython3",
   "version": "3.7.7"
  }
 },
 "nbformat": 4,
 "nbformat_minor": 1
}
