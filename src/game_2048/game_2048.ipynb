{
 "cells": [
  {
   "cell_type": "code",
   "execution_count": 1,
   "metadata": {},
   "outputs": [],
   "source": [
    "from game_2048 import *"
   ]
  },
  {
   "cell_type": "code",
   "execution_count": 3,
   "metadata": {},
   "outputs": [
    {
     "name": "stdout",
     "output_type": "stream",
     "text": [
      "[0, 0, 2, 0, 0]\n",
      "[0, 0, 0, 0, 2]\n",
      "[2, 0, 0, 0, 0]\n",
      "[0, 0, 0, 2, 0]\n",
      "[0, 0, 0, 0, 0]\n",
      "[0, 2, 2, 0, 2]\n",
      "[2, 0, 0, 0, 0]\n",
      "\n",
      "[0, 0, 0, 0, 2]\n",
      "[0, 0, 0, 0, 2]\n",
      "[0, 0, 0, 0, 2]\n",
      "[0, 0, 0, 0, 2]\n",
      "[0, 0, 0, 0, 0]\n",
      "[2, 0, 0, 2, 4]\n",
      "[0, 0, 0, 0, 2]\n",
      "\n",
      "[0, 0, 0, 0, 0]\n",
      "[0, 0, 0, 0, 0]\n",
      "[2, 0, 0, 0, 0]\n",
      "[0, 0, 0, 0, 4]\n",
      "[0, 0, 0, 0, 4]\n",
      "[0, 0, 0, 0, 4]\n",
      "[2, 0, 0, 2, 2]\n",
      "\n",
      "[0, 0, 0, 0, 0]\n",
      "[0, 0, 0, 0, 2]\n",
      "[2, 0, 0, 0, 0]\n",
      "[4, 0, 0, 0, 0]\n",
      "[4, 0, 0, 0, 0]\n",
      "[4, 0, 0, 0, 0]\n",
      "[4, 2, 0, 0, 0]\n",
      "\n",
      "[2, 2, 0, 0, 2]\n",
      "[8, 0, 0, 0, 2]\n",
      "[8, 0, 0, 0, 0]\n",
      "[0, 0, 0, 0, 0]\n",
      "[0, 0, 0, 0, 0]\n",
      "[0, 0, 0, 0, 0]\n",
      "[0, 0, 0, 0, 0]\n",
      "\n"
     ]
    }
   ],
   "source": [
    "import random\n",
    "random.seed(100)\n",
    "my_grid = TwentyFortyEight(7, 5)\n",
    "my_grid.new_tile()\n",
    "my_grid.new_tile()\n",
    "my_grid.new_tile()\n",
    "my_grid.new_tile()\n",
    "my_grid.new_tile()\n",
    "my_grid.new_tile()\n",
    "print(my_grid)\n",
    "my_grid.move(RIGHT)\n",
    "print(my_grid)\n",
    "my_grid.move(DOWN)\n",
    "print(my_grid)\n",
    "my_grid.move(LEFT)\n",
    "print(my_grid)\n",
    "my_grid.move(UP)\n",
    "print(my_grid)"
   ]
  },
  {
   "cell_type": "code",
   "execution_count": 3,
   "metadata": {},
   "outputs": [
    {
     "name": "stdout",
     "output_type": "stream",
     "text": [
      "[0, 0, 0]\n",
      "[0, 0, 0]\n",
      "[0, 0, 0]\n",
      "[0, 2, 0]\n",
      "[0, 0, 2]\n",
      "\n"
     ]
    }
   ],
   "source": [
    "grid_str = str()\n",
    "for row in my_grid:\n",
    "    grid_str += str(row) + '\\n'\n",
    "\n",
    "str(grid_str)"
   ]
  },
  {
   "cell_type": "code",
   "execution_count": 71,
   "metadata": {},
   "outputs": [
    {
     "data": {
      "text/plain": [
       "'[0, 0, 0]\\n[0, 0, 0]\\n[2, 0, 0]\\n[2, 0, 0]\\n[0, 0, 0]\\n'"
      ]
     },
     "execution_count": 71,
     "metadata": {},
     "output_type": "execute_result"
    }
   ],
   "source": [
    "import random\n",
    "random.seed(10)\n",
    "str(TwentyFortyEight(5,3))"
   ]
  },
  {
   "cell_type": "code",
   "execution_count": 91,
   "metadata": {},
   "outputs": [
    {
     "data": {
      "text/plain": [
       "[(10, 1, 1, [[0], [2], [4], [0], [0], [0], [0], [0], [0], [0]])]"
      ]
     },
     "execution_count": 91,
     "metadata": {},
     "output_type": "execute_result"
    }
   ],
   "source": [
    "grid_creation_params_dict = {\n",
    "    \"grid_height\": [],\n",
    "    \"grid_width\": [],\n",
    "    \"seed\": [],\n",
    "    \"output\": []\n",
    "}\n",
    "\n",
    "# prepare data for tests\n",
    "# test case 1\n",
    "grid_creation_params_dict[\"grid_height\"].append(10)\n",
    "grid_creation_params_dict[\"grid_width\"].append(1)\n",
    "grid_creation_params_dict[\"seed\"].append(1)\n",
    "grid_creation_params_dict[\"output\"].append(\n",
    "    [[0], [2], [4], [0], [0], [0], [0], [0], [0], [0]]\n",
    ")\n",
    "\n",
    "list(zip(*grid_creation_params_dict.values()))"
   ]
  },
  {
   "cell_type": "code",
   "execution_count": 93,
   "metadata": {},
   "outputs": [
    {
     "ename": "KeyError",
     "evalue": "'HiThere'",
     "output_type": "error",
     "traceback": [
      "\u001b[1;31m---------------------------------------------------------------------------\u001b[0m",
      "\u001b[1;31mKeyError\u001b[0m                                  Traceback (most recent call last)",
      "\u001b[1;32m<ipython-input-93-615aa1211c81>\u001b[0m in \u001b[0;36m<module>\u001b[1;34m\u001b[0m\n\u001b[1;32m----> 1\u001b[1;33m \u001b[1;32mraise\u001b[0m \u001b[0mKeyError\u001b[0m\u001b[1;33m(\u001b[0m\u001b[1;34m'HiThere'\u001b[0m\u001b[1;33m)\u001b[0m\u001b[1;33m\u001b[0m\u001b[1;33m\u001b[0m\u001b[0m\n\u001b[0m",
      "\u001b[1;31mKeyError\u001b[0m: 'HiThere'"
     ]
    }
   ],
   "source": [
    "raise KeyError('HiThere')"
   ]
  },
  {
   "cell_type": "code",
   "execution_count": 100,
   "metadata": {},
   "outputs": [
    {
     "data": {
      "text/plain": [
       "[[2, 0, 2, 4]]"
      ]
     },
     "execution_count": 100,
     "metadata": {},
     "output_type": "execute_result"
    }
   ],
   "source": [
    "my_dict = {\n",
    "    \"input_list\": [[2, 0, 2, 4]],\n",
    "    \"merged_list\": [[4, 4, 0, 0]]\n",
    "}\n",
    "list(my_dict.values())[0]"
   ]
  },
  {
   "cell_type": "code",
   "execution_count": 7,
   "metadata": {},
   "outputs": [
    {
     "data": {
      "text/plain": [
       "{'UP': [(0, 0), (0, 1), (0, 2), (0, 3), (0, 4)],\n",
       " 'DOWN': [(6, 0), (6, 1), (6, 2), (6, 3), (6, 4)],\n",
       " 'LEFT': [(0, 0), (1, 0), (2, 0), (3, 0), (4, 0), (5, 0), (6, 0)],\n",
       " 'RIGHT': [(0, 4), (1, 4), (2, 4), (3, 4), (4, 4), (5, 4), (6, 4)]}"
      ]
     },
     "execution_count": 7,
     "metadata": {},
     "output_type": "execute_result"
    }
   ],
   "source": [
    "def dict_maker(grid_height, grid_width):\n",
    "    initial_tiles_of_directions = {\n",
    "        \"UP\": list(zip([0] * grid_width, range(grid_width))),\n",
    "        \"DOWN\": list(zip([grid_height - 1] * grid_width, range(grid_width))),\n",
    "        \"LEFT\": list(zip(range(grid_height), [0] * grid_height)),\n",
    "        \"RIGHT\": list(zip(range(grid_height), [grid_width - 1] * grid_height))\n",
    "    }\n",
    "    return initial_tiles_of_directions\n",
    "dict_maker(7,5)"
   ]
  },
  {
   "cell_type": "code",
   "execution_count": 10,
   "metadata": {},
   "outputs": [
    {
     "name": "stdout",
     "output_type": "stream",
     "text": [
      "0 0\n",
      "0 1\n",
      "0 2\n",
      "0 3\n",
      "0 4\n"
     ]
    }
   ],
   "source": [
    "for row, col in dict_maker(7,5)['UP']:\n",
    "    print(row, col)"
   ]
  },
  {
   "cell_type": "code",
   "execution_count": 14,
   "metadata": {},
   "outputs": [
    {
     "data": {
      "text/plain": [
       "[(0, 0), (0, 1), (0, 2), (0, 3), (0, 4), (0, 5), (0, 6)]"
      ]
     },
     "execution_count": 14,
     "metadata": {},
     "output_type": "execute_result"
    }
   ],
   "source": [
    "[*zip([0] * 7, range(7))]"
   ]
  }
 ],
 "metadata": {
  "kernelspec": {
   "display_name": "Python 3",
   "language": "python",
   "name": "python3"
  },
  "language_info": {
   "codemirror_mode": {
    "name": "ipython",
    "version": 3
   },
   "file_extension": ".py",
   "mimetype": "text/x-python",
   "name": "python",
   "nbconvert_exporter": "python",
   "pygments_lexer": "ipython3",
   "version": "3.7.7"
  }
 },
 "nbformat": 4,
 "nbformat_minor": 1
}
